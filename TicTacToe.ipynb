import tkinter as tk
from tkinter import messagebox

class TicTacToe:
    def __init__(self):
        self.root = tk.Tk()
        self.root.title("Tic Tac Toe")
        self.current_player = 'X'
        self.board = [[' ' for _ in range(3)] for _ in range(3)]

        self.buttons = [[None for _ in range(3)] for _ in range(3)]

        for i in range(3):
            for j in range(3):
                self.buttons[i][j] = tk.Button(self.root, text='', font=('normal', 20), width=5, height=2,
                                              command=lambda row=i, col=j: self.on_button_click(row, col))
                self.buttons[i][j].grid(row=i, column=j, sticky='nsew')

        reset_button = tk.Button(self.root, text='Reset', font=('normal', 14), command=self.reset_game)
        reset_button.grid(row=3, column=1, sticky='nsew', pady=(10, 0))  # Add space above the button

        # Configure columns and rows to expand with window resizing
        for i in range(4):
            self.root.grid_columnconfigure(i, weight=1)
            self.root.grid_rowconfigure(i, weight=1)

        self.root.update_idletasks()
        min_width = self.root.winfo_reqwidth()
        min_height = self.root.winfo_reqheight()
        self.root.minsize(min_width, min_height)

        # Set minimum size based on button dimensions
        self.root.update()
        min_width = self.root.winfo_width()
        min_height = self.root.winfo_height()
        self.root.minsize(min_width, min_height)

    def on_button_click(self, row, col):
        if self.board[row][col] == ' ':
            self.board[row][col] = self.current_player
            self.buttons[row][col].config(text=self.current_player)

            if self.check_win(row, col):
                self.show_winner()
            elif self.check_tie():
                self.show_tie()
            else:
                self.current_player = 'O' if self.current_player == 'X' else 'X'

    def check_win(self, row, col):
        # Check row
        if all(self.board[row][j] == self.current_player for j in range(3)):
            return True

        # Check column
        if all(self.board[i][col] == self.current_player for i in range(3)):
            return True

        # Check diagonals
        if all(self.board[i][i] == self.current_player for i in range(3)) or \
                all(self.board[i][2 - i] == self.current_player for i in range(3)):
            return True

        return False

    def check_tie(self):
        return all(cell != ' ' for row in self.board for cell in row)

    def show_winner(self):
        messagebox.showinfo("Game Over", f"Player {self.current_player} wins!")
        self.reset_game()

    def show_tie(self):
        messagebox.showinfo("Game Over", "It's a tie!")
        self.reset_game()

    def reset_game(self):
        for i in range(3):
            for j in range(3):
                self.board[i][j] = ' '
                self.buttons[i][j].config(text='')

        self.current_player = 'X'

    def run(self):
        self.root.mainloop()

if __name__ == "__main__":
    game = TicTacToe()
    game.run()
